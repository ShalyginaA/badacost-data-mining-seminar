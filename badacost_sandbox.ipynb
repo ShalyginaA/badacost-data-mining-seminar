{
 "cells": [
  {
   "cell_type": "code",
   "execution_count": 1,
   "metadata": {},
   "outputs": [],
   "source": [
    "import numpy as np\n",
    "import scipy.optimize"
   ]
  },
  {
   "cell_type": "code",
   "execution_count": 190,
   "metadata": {},
   "outputs": [],
   "source": [
    "class BAdaCost:\n",
    "    def __init__(self,optimizer, n_iters, learning_rate, C, eps):\n",
    "        self.optimizer = optimizer #weak learners\n",
    "        self.n_iters = n_iters #number of iterations\n",
    "        self.lr = learning_rate #learning rate\n",
    "        self.weights = np.zeros(n_iters) #weights of weak learners\n",
    "        self.weak_learners = [0]*n_iters #weak learners\n",
    "        self.Cprime = C - np.diag(np.array(np.sum(C,axis=1).flatten())[0]) #modified cost matrix\n",
    "        self.n_classes = C.shape[1] #number of classes\n",
    "        self.margin = ((-1/(self.n_classes-1))*np.ones([self.n_classes,self.n_classes]) \n",
    "                 + (self.n_classes/(self.n_classes-1))*np.eye(self.n_classes)) #margin vector\n",
    "        self.eps = eps \n",
    "        \n",
    "    def translate_to_cost_matrix(self,C2,beta):\n",
    "        K = C2.shape[0]\n",
    "        Cexp = np.exp(beta*C2)\n",
    "        for j in range(K):\n",
    "            Cexp[j,:] -= Cexp[j,j]*np.ones(K)\n",
    "        return Cexp\n",
    "\n",
    "    def compute_weak_learner_weight(self,C_star, W, pred, y):\n",
    "    #Computes  Weak Learner weight (\\alpha) in order to minimize the \n",
    "    #cost sensitive loss function.\n",
    "        K = C_star.shape[0]\n",
    "        WeightsSum = np.zeros([K,K])\n",
    "        for i in range(K):\n",
    "            for j in range(K):\n",
    "                y1 = []\n",
    "                pred1 = []\n",
    "                for k,z in zip(y,pred):\n",
    "                    if k == i:     \n",
    "                        y1.append(1)\n",
    "                    else:\n",
    "                        y1.append(0)\n",
    "                    if z == j:\n",
    "                        pred1.append(1)\n",
    "                    else:\n",
    "                        pred1.append(0)\n",
    "                predicted_as_j_being_i = y1 and pred1\n",
    "                WeightsSum[i,j] = np.dot(W,predicted_as_j_being_i)\n",
    "        alpha0 = 1.0\n",
    "        alpha = scipy.optimize.fmin(lambda x: self.cost_sensitive_loss_function(x,C_star,WeightsSum),\n",
    "                                    x0=alpha0,disp=0)\n",
    "        return alpha \n",
    "    \n",
    "    def cost_sensitive_loss_function(self,alpha,C_star,WeightsSum):\n",
    "        #Loss function computation for a given\n",
    "        #alpha (weak learner weight in the CostSAMME algorithm).\n",
    "        K = C_star.shape[0]\n",
    "        func_value = 0\n",
    "        for i in range(K):\n",
    "            for j in range(K):\n",
    "                func_value += WeightsSum[i,j]*np.exp(alpha*C_star[i,j])\n",
    "        return func_value \n",
    "    \n",
    "    def compute_weak_learner_cost(self,pred_wl, y, C2, beta, W):\n",
    "        cost = 0.0\n",
    "        for i in range(len(pred_wl)):\n",
    "            cost += W[i]*np.exp(beta*C2[y[i],pred_wl[i]])\n",
    "            \n",
    "        return cost\n",
    "        \n",
    "    def fit(self,X,y):\n",
    "        N = X.shape[0]\n",
    "        #initialize weight vector\n",
    "        sample_weights = (1/N)*np.ones(N)\n",
    "        C2 = self.Cprime * self.margin\n",
    "        for i in range(self.n_iters):\n",
    "            beta = 1\n",
    "            c = 2**63-1 #inf\n",
    "            delta_c = 2**63-1 #inf\n",
    "            while delta_c >= self.eps:\n",
    "                C_wl = self.translate_to_cost_matrix(C2,beta)\n",
    "                G = self.train_multiclass_cost_sensitive_WL(X,y,sample_weights,C_wl)\n",
    "                #wl_preds = G.predict(X)\n",
    "                wl_preds = self.weak_learner_prediction(G,X,C_wl)\n",
    "                beta = self.compute_weak_learner_weight(C2,sample_weights,wl_preds,y)[0] \n",
    "                c_new = self.compute_weak_learner_cost(wl_preds,y,C2,beta,sample_weights)\n",
    "                delta_c = c-c_new\n",
    "                c = c_new\n",
    "            self.weak_learners[i] = G\n",
    "            self.weights[i] = beta\n",
    "            beta = self.lr*beta\n",
    "            \n",
    "            # update sample weights: only the right classified samples changes the\n",
    "            #weight\n",
    "            for j in range(X.shape[1]):\n",
    "                exp_j = C2[y[j],wl_preds[j]]\n",
    "                sample_weights[j] *= np.exp(beta*exp_j)\n",
    "            #renormalize sample weights\n",
    "            sample_weights /= np.sum(sample_weights)\n",
    "\n",
    "            \n",
    "    def train_multiclass_cost_sensitive_WL(self,X,y,w,C_wl):\n",
    "        wl = self.optimizer\n",
    "        wl.fit(X,y)\n",
    "        return wl\n",
    "            \n",
    "    def weak_learner_prediction(self,weak_learner,X,C):\n",
    "        probs = weak_learner.predict_proba(X)\n",
    "        prediction = []\n",
    "        n = probs.shape[0]\n",
    "        for i in range(n):\n",
    "            a = np.dot(C,probs[i])\n",
    "            a_min = np.argmin(a,axis=1)\n",
    "            prediction.append(a_min)\n",
    "        return np.array(prediction).reshape(1,n)[0]\n",
    "            \n",
    "                   \n",
    "    def predict(self,X):\n",
    "        n = X.shape[0]\n",
    "        M = len(self.weak_learners)\n",
    "        margin_vec = np.zeros([self.n_classes,n])\n",
    "        for i in range(len(self.weak_learners)):\n",
    "            #row vector with the labels\n",
    "            z = self.weak_learner_prediction(self.weak_learners[i],X,self.Cprime)\n",
    "            for j in range(n):\n",
    "                margin_vec[:,j] += self.weights[i]*self.margin[:,z[j]]\n",
    "          \n",
    "        predicted = -self.Cprime*margin_vec\n",
    "        predicted = np.argmin(predicted.transpose(),axis=1)\n",
    "        return np.array(predicted.reshape(1,n))[0]\n",
    "               "
   ]
  },
  {
   "cell_type": "code",
   "execution_count": 219,
   "metadata": {},
   "outputs": [],
   "source": [
    "from sklearn.tree import DecisionTreeClassifier\n",
    "tree = DecisionTreeClassifier(max_depth=5)"
   ]
  },
  {
   "cell_type": "code",
   "execution_count": 220,
   "metadata": {},
   "outputs": [],
   "source": [
    "from sklearn.metrics import accuracy_score"
   ]
  },
  {
   "cell_type": "code",
   "execution_count": 221,
   "metadata": {},
   "outputs": [],
   "source": [
    "import pandas as pd"
   ]
  },
  {
   "cell_type": "code",
   "execution_count": 222,
   "metadata": {},
   "outputs": [],
   "source": [
    "data = pd.read_csv('car_data/car.data', names = ['buying', 'maint', 'doors', 'persons', \n",
    "                                                 'lug_boot', 'safety', 'label'])"
   ]
  },
  {
   "cell_type": "code",
   "execution_count": 223,
   "metadata": {},
   "outputs": [],
   "source": [
    "# Encode Data\n",
    "data.buying.replace(('vhigh','high','med','low'),(0,1,2,3), inplace=True)\n",
    "data.maint.replace(('vhigh','high','med','low'),(0,1,2,3), inplace=True)\n",
    "data.doors.replace(('2','3','4','5more'),(0,1,2,3), inplace=True)\n",
    "data.persons.replace(('2','4','more'),(0,1,2), inplace=True)\n",
    "data.lug_boot.replace(('small','med','big'),(0,1,2), inplace=True)\n",
    "data.safety.replace(('low','med','high'),(0,1,2), inplace=True)\n",
    "data.label.replace(('unacc','acc','good','vgood'),(0,1,2,3), inplace=True)"
   ]
  },
  {
   "cell_type": "code",
   "execution_count": 224,
   "metadata": {},
   "outputs": [
    {
     "data": {
      "text/html": [
       "<div>\n",
       "<style scoped>\n",
       "    .dataframe tbody tr th:only-of-type {\n",
       "        vertical-align: middle;\n",
       "    }\n",
       "\n",
       "    .dataframe tbody tr th {\n",
       "        vertical-align: top;\n",
       "    }\n",
       "\n",
       "    .dataframe thead th {\n",
       "        text-align: right;\n",
       "    }\n",
       "</style>\n",
       "<table border=\"1\" class=\"dataframe\">\n",
       "  <thead>\n",
       "    <tr style=\"text-align: right;\">\n",
       "      <th></th>\n",
       "      <th>buying</th>\n",
       "      <th>maint</th>\n",
       "      <th>doors</th>\n",
       "      <th>persons</th>\n",
       "      <th>lug_boot</th>\n",
       "      <th>safety</th>\n",
       "      <th>label</th>\n",
       "    </tr>\n",
       "  </thead>\n",
       "  <tbody>\n",
       "    <tr>\n",
       "      <th>0</th>\n",
       "      <td>0</td>\n",
       "      <td>0</td>\n",
       "      <td>0</td>\n",
       "      <td>0</td>\n",
       "      <td>0</td>\n",
       "      <td>0</td>\n",
       "      <td>0</td>\n",
       "    </tr>\n",
       "    <tr>\n",
       "      <th>1</th>\n",
       "      <td>0</td>\n",
       "      <td>0</td>\n",
       "      <td>0</td>\n",
       "      <td>0</td>\n",
       "      <td>0</td>\n",
       "      <td>1</td>\n",
       "      <td>0</td>\n",
       "    </tr>\n",
       "    <tr>\n",
       "      <th>2</th>\n",
       "      <td>0</td>\n",
       "      <td>0</td>\n",
       "      <td>0</td>\n",
       "      <td>0</td>\n",
       "      <td>0</td>\n",
       "      <td>2</td>\n",
       "      <td>0</td>\n",
       "    </tr>\n",
       "    <tr>\n",
       "      <th>3</th>\n",
       "      <td>0</td>\n",
       "      <td>0</td>\n",
       "      <td>0</td>\n",
       "      <td>0</td>\n",
       "      <td>1</td>\n",
       "      <td>0</td>\n",
       "      <td>0</td>\n",
       "    </tr>\n",
       "    <tr>\n",
       "      <th>4</th>\n",
       "      <td>0</td>\n",
       "      <td>0</td>\n",
       "      <td>0</td>\n",
       "      <td>0</td>\n",
       "      <td>1</td>\n",
       "      <td>1</td>\n",
       "      <td>0</td>\n",
       "    </tr>\n",
       "  </tbody>\n",
       "</table>\n",
       "</div>"
      ],
      "text/plain": [
       "   buying  maint  doors  persons  lug_boot  safety  label\n",
       "0       0      0      0        0         0       0      0\n",
       "1       0      0      0        0         0       1      0\n",
       "2       0      0      0        0         0       2      0\n",
       "3       0      0      0        0         1       0      0\n",
       "4       0      0      0        0         1       1      0"
      ]
     },
     "execution_count": 224,
     "metadata": {},
     "output_type": "execute_result"
    }
   ],
   "source": [
    "data.head()"
   ]
  },
  {
   "cell_type": "code",
   "execution_count": 225,
   "metadata": {},
   "outputs": [],
   "source": [
    "from sklearn.model_selection import train_test_split"
   ]
  },
  {
   "cell_type": "code",
   "execution_count": 226,
   "metadata": {},
   "outputs": [],
   "source": [
    "X_train, X_test, y_train, y_test = train_test_split(data.drop(columns=['label']), data['label'], test_size=0.2)"
   ]
  },
  {
   "cell_type": "code",
   "execution_count": 227,
   "metadata": {},
   "outputs": [],
   "source": [
    "C1 = np.matrix([[0,1,1,0.001],[1,0,1,1],[1,1,0,1],[1,1,1,0]])\n",
    "F = np.matrix([[0.        , 0.04288703, 0.        , 0.00313808],\n",
    "        [0.16507937, 0.        , 0.        , 0.02857143],\n",
    "        [0.        , 0.56140351, 0.        , 0.43859649],\n",
    "        [0.        , 0.2037037 , 0.        , 0.        ]])"
   ]
  },
  {
   "cell_type": "code",
   "execution_count": 228,
   "metadata": {},
   "outputs": [],
   "source": [
    "bada2 = BAdaCost(tree,10,0.001,C1,0.000001)"
   ]
  },
  {
   "cell_type": "code",
   "execution_count": 229,
   "metadata": {},
   "outputs": [],
   "source": [
    "bada2.fit(np.array(X_train),np.array(y_train))"
   ]
  },
  {
   "cell_type": "code",
   "execution_count": 230,
   "metadata": {},
   "outputs": [
    {
     "data": {
      "text/plain": [
       "0.861271676300578"
      ]
     },
     "execution_count": 230,
     "metadata": {},
     "output_type": "execute_result"
    }
   ],
   "source": [
    "accuracy_score(bada2.predict(X_test),y_test)"
   ]
  },
  {
   "cell_type": "code",
   "execution_count": null,
   "metadata": {},
   "outputs": [],
   "source": []
  }
 ],
 "metadata": {
  "kernelspec": {
   "display_name": "Python 3",
   "language": "python",
   "name": "python3"
  },
  "language_info": {
   "codemirror_mode": {
    "name": "ipython",
    "version": 3
   },
   "file_extension": ".py",
   "mimetype": "text/x-python",
   "name": "python",
   "nbconvert_exporter": "python",
   "pygments_lexer": "ipython3",
   "version": "3.6.6"
  }
 },
 "nbformat": 4,
 "nbformat_minor": 2
}
